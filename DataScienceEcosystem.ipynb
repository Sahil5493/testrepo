{
 "cells": [
  {
   "cell_type": "markdown",
   "id": "f297fbb7",
   "metadata": {},
   "source": [
    "# Data science Tools and Ecosystem "
   ]
  },
  {
   "cell_type": "markdown",
   "id": "14d5023c",
   "metadata": {},
   "source": [
    "# in this notebook, Data Science tools and Ecosystems are summarized:"
   ]
  },
  {
   "cell_type": "markdown",
   "id": "e6f95d40",
   "metadata": {},
   "source": [
    "# Some of the popular languages that Data Scientists use are:"
   ]
  },
  {
   "cell_type": "markdown",
   "id": "16a98ad0",
   "metadata": {},
   "source": [
    "1. Python\n",
    "2. R\n",
    "3. SQL"
   ]
  },
  {
   "cell_type": "markdown",
   "id": "252d0f2b",
   "metadata": {},
   "source": [
    "# Some of the commonly used libraries used by Data Scientists include:"
   ]
  },
  {
   "cell_type": "markdown",
   "id": "e8109510",
   "metadata": {},
   "source": [
    "1. TensorFlow\n",
    "2. PyTorch\n",
    "3. OpenCV\n",
    "4. Scikit-learn"
   ]
  },
  {
   "cell_type": "markdown",
   "id": "894180d6",
   "metadata": {},
   "source": [
    "|Data Science Tools|\n",
    "|------------------|\n",
    "|Apache Spark|\n",
    "|Tableu|\n",
    "|MATLAB|"
   ]
  },
  {
   "cell_type": "markdown",
   "id": "23b90da9",
   "metadata": {},
   "source": [
    "### Below are a few examples of evaluating arithmetic expressions in Python"
   ]
  },
  {
   "cell_type": "code",
   "execution_count": 22,
   "id": "54fb7342",
   "metadata": {},
   "outputs": [
    {
     "data": {
      "text/plain": [
       "17"
      ]
     },
     "execution_count": 22,
     "metadata": {},
     "output_type": "execute_result"
    }
   ],
   "source": [
    "# This a simple arithmetic expression to mutiply then add integers\n",
    "(3*4)+5"
   ]
  },
  {
   "cell_type": "code",
   "execution_count": 23,
   "id": "8b598799",
   "metadata": {},
   "outputs": [
    {
     "name": "stdout",
     "output_type": "stream",
     "text": [
      "3\n"
     ]
    }
   ],
   "source": [
    "# this will convert 200 minutes to hours by diving by 60\n",
    "minutes = 200\n",
    "hours  = minutes // 60\n",
    "print(hours)"
   ]
  },
  {
   "cell_type": "markdown",
   "id": "17946065",
   "metadata": {},
   "source": [
    "**Objectives**"
   ]
  },
  {
   "cell_type": "markdown",
   "id": "4083f991",
   "metadata": {},
   "source": [
    "* Python \n",
    "* scala\n",
    "* SQL\n",
    "* Julia\n",
    "* Perl\n",
    "* MATLAB"
   ]
  },
  {
   "cell_type": "markdown",
   "id": "30e4b7cf",
   "metadata": {},
   "source": [
    "## Author\n",
    "Sahil"
   ]
  }
 ],
 "metadata": {
  "kernelspec": {
   "display_name": "Python 3 (ipykernel)",
   "language": "python",
   "name": "python3"
  },
  "language_info": {
   "codemirror_mode": {
    "name": "ipython",
    "version": 3
   },
   "file_extension": ".py",
   "mimetype": "text/x-python",
   "name": "python",
   "nbconvert_exporter": "python",
   "pygments_lexer": "ipython3",
   "version": "3.9.13"
  }
 },
 "nbformat": 4,
 "nbformat_minor": 5
}
